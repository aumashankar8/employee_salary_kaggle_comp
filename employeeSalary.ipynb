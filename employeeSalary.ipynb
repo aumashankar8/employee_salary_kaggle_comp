{
 "cells": [
  {
   "cell_type": "markdown",
   "metadata": {},
   "source": [
    "EMPLOYEE SALARIES FOR DIFFERENT JOB ROLES\n",
    "https://www.kaggle.com/datasets/inductiveanks/employee-salaries-for-different-job-roles\n",
    "\n",
    "\n",
    "<span style=\"font-size:15px\">\n",
    "\n",
    "# About Dataset\n",
    "Welcome to the Employee Salaries for Different Job Roles Dataset! This dataset provides valuable insights into the compensation and job roles of employees across various industries and regions. Whether you're an HR analyst, data scientist, or someone interested in understanding salary trends, this dataset offers a wealth of information to explore and analyze.\n",
    "\n",
    "## Content:\n",
    "\n",
    "The dataset contains the following fields:\n",
    "\n",
    "work_year: The year of employment.\n",
    "\n",
    "experience_level: The experience level of the employee (e.g., entry-level, mid-level, senior).\n",
    "\n",
    "employment_type: The type of employment (e.g., full-time, part-time, contract).\n",
    "\n",
    "job_title: The job title or position of the employee within the company.\n",
    "\n",
    "salary: The salary amount in the local currency.\n",
    "\n",
    "salary_currency: The currency in which the salary is denoted.\n",
    "\n",
    "salary_in_usd: The equivalent salary amount in USD (United States Dollars).\n",
    "\n",
    "employee_residence: The location of the employee's residence.\n",
    "\n",
    "remote_ratio: The percentage of remote work allowed for the position.\n",
    "\n",
    "company_location: The location of the company.\n",
    "\n",
    "company_size: The size of the company (e.g., small, medium, large).\n",
    "\n",
    "## Usage:\n",
    "\n",
    "This dataset can be utilized for various purposes, including but not limited to:\n",
    "\n",
    "Analyzing salary trends across different job titles and experience levels.\n",
    "Investigating the impact of remote work on compensation.\n",
    "Comparing salary levels between full-time and part-time employment.\n",
    "Understanding the correlation between company size and employee salaries.\n",
    "Predictive analysis for forecasting salaries based on experience and job roles.\n",
    "We encourage you to explore the data, perform insightful analyses, and share your findings with the Kaggle community. If you find any interesting patterns or make significant discoveries, don't forget to acknowledge this dataset in your work.\n",
    "\n",
    "Please note that all data has been anonymized to ensure the privacy and confidentiality of individuals and organizations.\n",
    "\n",
    "We hope you find this dataset valuable for your research and analysis. Happy exploring!\n",
    "</span>"
   ]
  },
  {
   "cell_type": "markdown",
   "metadata": {},
   "source": [
    "## Load the Data\n",
    "Virtual Environment copied from homl3"
   ]
  },
  {
   "cell_type": "code",
   "execution_count": 1,
   "metadata": {},
   "outputs": [],
   "source": [
    "# Only run if NOT unziped\n",
    "# from zipfile import ZipFile\n",
    "# with ZipFile('archive.zip', 'r') as f:\n",
    "#     f.extractall()"
   ]
  },
  {
   "cell_type": "markdown",
   "metadata": {},
   "source": [
    "## Explore the Data"
   ]
  },
  {
   "cell_type": "code",
   "execution_count": 2,
   "metadata": {},
   "outputs": [
    {
     "data": {
      "text/html": [
       "<div>\n",
       "<style scoped>\n",
       "    .dataframe tbody tr th:only-of-type {\n",
       "        vertical-align: middle;\n",
       "    }\n",
       "\n",
       "    .dataframe tbody tr th {\n",
       "        vertical-align: top;\n",
       "    }\n",
       "\n",
       "    .dataframe thead th {\n",
       "        text-align: right;\n",
       "    }\n",
       "</style>\n",
       "<table border=\"1\" class=\"dataframe\">\n",
       "  <thead>\n",
       "    <tr style=\"text-align: right;\">\n",
       "      <th></th>\n",
       "      <th>index</th>\n",
       "      <th>work_year</th>\n",
       "      <th>experience_level</th>\n",
       "      <th>employment_type</th>\n",
       "      <th>job_title</th>\n",
       "      <th>salary</th>\n",
       "      <th>salary_currency</th>\n",
       "      <th>salary_in_usd</th>\n",
       "      <th>employee_residence</th>\n",
       "      <th>remote_ratio</th>\n",
       "      <th>company_location</th>\n",
       "      <th>company_size</th>\n",
       "    </tr>\n",
       "  </thead>\n",
       "  <tbody>\n",
       "    <tr>\n",
       "      <th>0</th>\n",
       "      <td>0</td>\n",
       "      <td>2020</td>\n",
       "      <td>MI</td>\n",
       "      <td>FT</td>\n",
       "      <td>Data Scientist</td>\n",
       "      <td>70000</td>\n",
       "      <td>EUR</td>\n",
       "      <td>79833</td>\n",
       "      <td>DE</td>\n",
       "      <td>0</td>\n",
       "      <td>DE</td>\n",
       "      <td>L</td>\n",
       "    </tr>\n",
       "    <tr>\n",
       "      <th>1</th>\n",
       "      <td>1</td>\n",
       "      <td>2020</td>\n",
       "      <td>SE</td>\n",
       "      <td>FT</td>\n",
       "      <td>Machine Learning Scientist</td>\n",
       "      <td>260000</td>\n",
       "      <td>USD</td>\n",
       "      <td>260000</td>\n",
       "      <td>JP</td>\n",
       "      <td>0</td>\n",
       "      <td>JP</td>\n",
       "      <td>S</td>\n",
       "    </tr>\n",
       "    <tr>\n",
       "      <th>2</th>\n",
       "      <td>2</td>\n",
       "      <td>2020</td>\n",
       "      <td>SE</td>\n",
       "      <td>FT</td>\n",
       "      <td>Big Data Engineer</td>\n",
       "      <td>85000</td>\n",
       "      <td>GBP</td>\n",
       "      <td>109024</td>\n",
       "      <td>GB</td>\n",
       "      <td>50</td>\n",
       "      <td>GB</td>\n",
       "      <td>M</td>\n",
       "    </tr>\n",
       "    <tr>\n",
       "      <th>3</th>\n",
       "      <td>3</td>\n",
       "      <td>2020</td>\n",
       "      <td>MI</td>\n",
       "      <td>FT</td>\n",
       "      <td>Product Data Analyst</td>\n",
       "      <td>20000</td>\n",
       "      <td>USD</td>\n",
       "      <td>20000</td>\n",
       "      <td>HN</td>\n",
       "      <td>0</td>\n",
       "      <td>HN</td>\n",
       "      <td>S</td>\n",
       "    </tr>\n",
       "    <tr>\n",
       "      <th>4</th>\n",
       "      <td>4</td>\n",
       "      <td>2020</td>\n",
       "      <td>SE</td>\n",
       "      <td>FT</td>\n",
       "      <td>Machine Learning Engineer</td>\n",
       "      <td>150000</td>\n",
       "      <td>USD</td>\n",
       "      <td>150000</td>\n",
       "      <td>US</td>\n",
       "      <td>50</td>\n",
       "      <td>US</td>\n",
       "      <td>L</td>\n",
       "    </tr>\n",
       "  </tbody>\n",
       "</table>\n",
       "</div>"
      ],
      "text/plain": [
       "   index  work_year experience_level employment_type   \n",
       "0      0       2020               MI              FT  \\\n",
       "1      1       2020               SE              FT   \n",
       "2      2       2020               SE              FT   \n",
       "3      3       2020               MI              FT   \n",
       "4      4       2020               SE              FT   \n",
       "\n",
       "                    job_title  salary salary_currency  salary_in_usd   \n",
       "0              Data Scientist   70000             EUR          79833  \\\n",
       "1  Machine Learning Scientist  260000             USD         260000   \n",
       "2           Big Data Engineer   85000             GBP         109024   \n",
       "3        Product Data Analyst   20000             USD          20000   \n",
       "4   Machine Learning Engineer  150000             USD         150000   \n",
       "\n",
       "  employee_residence  remote_ratio company_location company_size  \n",
       "0                 DE             0               DE            L  \n",
       "1                 JP             0               JP            S  \n",
       "2                 GB            50               GB            M  \n",
       "3                 HN             0               HN            S  \n",
       "4                 US            50               US            L  "
      ]
     },
     "execution_count": 2,
     "metadata": {},
     "output_type": "execute_result"
    }
   ],
   "source": [
    "import pandas as pd\n",
    "\n",
    "salary = pd.read_csv('ds_salaries.csv')\n",
    "# salary.columns.values[0] = \"index\" #names the first column index\n",
    "# added in csv file instead\n",
    "salary.head()"
   ]
  },
  {
   "cell_type": "code",
   "execution_count": 3,
   "metadata": {},
   "outputs": [],
   "source": [
    "# extra code – code to save the figures as high-res PNGs\n",
    "# imported from homl3 textbook\n",
    "from pathlib import Path\n",
    "import matplotlib.pyplot as plt\n",
    "\n",
    "IMAGES_PATH = Path() / \"images\"\n",
    "IMAGES_PATH.mkdir(parents=True, exist_ok=True)\n",
    "\n",
    "def save_fig(fig_id, tight_layout=True, fig_extension=\"png\", resolution=300):\n",
    "    path = IMAGES_PATH / f\"{fig_id}.{fig_extension}\"\n",
    "    if tight_layout:\n",
    "        plt.tight_layout()\n",
    "    plt.savefig(path, format=fig_extension, dpi=resolution)"
   ]
  },
  {
   "cell_type": "code",
   "execution_count": 4,
   "metadata": {},
   "outputs": [
    {
     "data": {
      "image/png": "[encoded data removed]",
      "text/plain": [
       "<Figure size 1200x800 with 6 Axes>"
      ]
     },
     "metadata": {},
     "output_type": "display_data"
    }
   ],
   "source": [
    "plt.rc('font', size=14)\n",
    "plt.rc('axes', labelsize=14, titlesize=14)\n",
    "plt.rc('legend', fontsize=14)\n",
    "plt.rc('xtick', labelsize=10)\n",
    "plt.rc('ytick', labelsize=10)\n",
    "\n",
    "salary.hist(bins=50, figsize=(12, 8))\n",
    "save_fig(\"attribute_histogram_plots\")  # extra code\n",
    "plt.show()"
   ]
  },
  {
   "cell_type": "markdown",
   "metadata": {},
   "source": [
    "2 Numerical Variables\n",
    "    Salary in USD\n",
    "    Years Worked\n",
    "\n",
    "5 Categorical Variables\n",
    "    Experience Level (Ordinal)\n",
    "    Employment Type  (One Hot)\n",
    "    Job Title (One Hot)\n",
    "    Company Size (Ordinal)\n",
    "    Remote Ratio (Ordinal)\n",
    "\n",
    "The other columns are somewhat redundant OR should be done in cluster means capacity. Which will be done later. \n",
    "(Starting with a simpler model)\n",
    "\n",
    "    "
   ]
  },
  {
   "cell_type": "markdown",
   "metadata": {},
   "source": [
    "Use this to check certain variables"
   ]
  },
  {
   "cell_type": "code",
   "execution_count": 5,
   "metadata": {},
   "outputs": [
    {
     "data": {
      "text/plain": [
       "company_size\n",
       "M    326\n",
       "L    198\n",
       "S     83\n",
       "Name: count, dtype: int64"
      ]
     },
     "execution_count": 5,
     "metadata": {},
     "output_type": "execute_result"
    }
   ],
   "source": [
    "salary[\"company_size\"].value_counts()"
   ]
  },
  {
   "cell_type": "markdown",
   "metadata": {},
   "source": [
    "## Create a Test Set\n",
    "We will do this by using the Scikit-learn train_test_split method"
   ]
  },
  {
   "cell_type": "code",
   "execution_count": 6,
   "metadata": {},
   "outputs": [],
   "source": [
    "from sklearn.model_selection import train_test_split\n",
    "\n",
    "train_set, test_set = train_test_split(salary, test_size=0.2, random_state=42)\n"
   ]
  },
  {
   "cell_type": "markdown",
   "metadata": {},
   "source": [
    "## Data Cleaning\n",
    "1. work_year - needs to be a value that denotes how many years from the current one (__DONE__)\n",
    "2. experience_level - convert to a dummy variable ordinally (experience matters)\n",
    "3. employement_type - convert to a dummy variable categorically (FT, PT, contract treat as equal?)\n",
    "4. job_title - can be used as a cluster variable\n",
    "5. salary - // \n",
    "6. salary_currency - //\n",
    "7. salary_in_usd - THIS IS THE OUTCOME (I want to get a model that will predict salary in USD given the other things)\n",
    "8. employee_residence - Another cluster variable\n",
    "9. remote ratio - convert to a dummy variable categorically\n",
    "10. company location - Cluster Variable (maybe doesnt matter?)\n",
    "11. company_size - categorical variable\n"
   ]
  },
  {
   "cell_type": "markdown",
   "metadata": {},
   "source": [
    "# First Check Null Rows"
   ]
  },
  {
   "cell_type": "code",
   "execution_count": 7,
   "metadata": {},
   "outputs": [
    {
     "data": {
      "text/html": [
       "<div>\n",
       "<style scoped>\n",
       "    .dataframe tbody tr th:only-of-type {\n",
       "        vertical-align: middle;\n",
       "    }\n",
       "\n",
       "    .dataframe tbody tr th {\n",
       "        vertical-align: top;\n",
       "    }\n",
       "\n",
       "    .dataframe thead th {\n",
       "        text-align: right;\n",
       "    }\n",
       "</style>\n",
       "<table border=\"1\" class=\"dataframe\">\n",
       "  <thead>\n",
       "    <tr style=\"text-align: right;\">\n",
       "      <th></th>\n",
       "      <th>index</th>\n",
       "      <th>work_year</th>\n",
       "      <th>experience_level</th>\n",
       "      <th>employment_type</th>\n",
       "      <th>job_title</th>\n",
       "      <th>salary</th>\n",
       "      <th>salary_currency</th>\n",
       "      <th>salary_in_usd</th>\n",
       "      <th>employee_residence</th>\n",
       "      <th>remote_ratio</th>\n",
       "      <th>company_location</th>\n",
       "      <th>company_size</th>\n",
       "    </tr>\n",
       "  </thead>\n",
       "  <tbody>\n",
       "  </tbody>\n",
       "</table>\n",
       "</div>"
      ],
      "text/plain": [
       "Empty DataFrame\n",
       "Columns: [index, work_year, experience_level, employment_type, job_title, salary, salary_currency, salary_in_usd, employee_residence, remote_ratio, company_location, company_size]\n",
       "Index: []"
      ]
     },
     "execution_count": 7,
     "metadata": {},
     "output_type": "execute_result"
    }
   ],
   "source": [
    "null_rows_index = salary.isnull().any(axis=1)\n",
    "salary.loc[null_rows_index].head() #NO NULLS YAY"
   ]
  },
  {
   "cell_type": "markdown",
   "metadata": {},
   "source": [
    "# Number Variables\n",
    "1. Years Worked\n",
    "7. Salary in USD\n",
    "Create a variable that measures years since the start date\n",
    "Salary is tailed so needs to be log scaled and then standardized"
   ]
  },
  {
   "cell_type": "code",
   "execution_count": 52,
   "metadata": {},
   "outputs": [],
   "source": [
    "#Functions to include in pipeline\n",
    "import datetime\n",
    "def years_worked(df):\n",
    "    today = datetime.date.today()\n",
    "    year = today.year\n",
    "    df[\"work_year\"] = year - df[\"work_year\"] # years worked variable\n",
    "    return df\n",
    "\n",
    "def years_worked_name(function_transformer, feature_names_in):\n",
    "    return [\"work_year\"]\n"
   ]
  },
  {
   "cell_type": "markdown",
   "metadata": {},
   "source": [
    "# Number Pipeline"
   ]
  },
  {
   "cell_type": "code",
   "execution_count": 9,
   "metadata": {},
   "outputs": [
    {
     "data": {
      "image/png": "[encoded data removed]",
      "text/plain": [
       "<Figure size 800x300 with 2 Axes>"
      ]
     },
     "metadata": {},
     "output_type": "display_data"
    }
   ],
   "source": [
    "# Code that helps visualize Salary and SQRT of Salary\n",
    "import numpy as np\n",
    "\n",
    "fig, axs = plt.subplots(1, 2, figsize=(8, 3), sharey=True)\n",
    "salary[\"salary_in_usd\"].hist(ax=axs[0], bins=50)\n",
    "salary[\"salary_in_usd\"].apply(np.sqrt).hist(ax=axs[1], bins=50) #log did not solve\n",
    "axs[0].set_xlabel(\"USD\")\n",
    "axs[1].set_xlabel(\"SQRT of USD\")\n",
    "axs[0].set_ylabel(\"Number of Prices\")\n",
    "save_fig(\"long_tail_plot\")\n",
    "plt.show()"
   ]
  },
  {
   "cell_type": "code",
   "execution_count": 53,
   "metadata": {},
   "outputs": [
    {
     "data": {
      "text/html": [
       "<style>#sk-container-id-5 {color: black;background-color: white;}#sk-container-id-5 pre{padding: 0;}#sk-container-id-5 div.sk-toggleable {background-color: white;}#sk-container-id-5 label.sk-toggleable__label {cursor: pointer;display: block;width: 100%;margin-bottom: 0;padding: 0.3em;box-sizing: border-box;text-align: center;}#sk-container-id-5 label.sk-toggleable__label-arrow:before {content: \"▸\";float: left;margin-right: 0.25em;color: #696969;}#sk-container-id-5 label.sk-toggleable__label-arrow:hover:before {color: black;}#sk-container-id-5 div.sk-estimator:hover label.sk-toggleable__label-arrow:before {color: black;}#sk-container-id-5 div.sk-toggleable__content {max-height: 0;max-width: 0;overflow: hidden;text-align: left;background-color: #f0f8ff;}#sk-container-id-5 div.sk-toggleable__content pre {margin: 0.2em;color: black;border-radius: 0.25em;background-color: #f0f8ff;}#sk-container-id-5 input.sk-toggleable__control:checked~div.sk-toggleable__content {max-height: 200px;max-width: 100%;overflow: auto;}#sk-container-id-5 input.sk-toggleable__control:checked~label.sk-toggleable__label-arrow:before {content: \"▾\";}#sk-container-id-5 div.sk-estimator input.sk-toggleable__control:checked~label.sk-toggleable__label {background-color: #d4ebff;}#sk-container-id-5 div.sk-label input.sk-toggleable__control:checked~label.sk-toggleable__label {background-color: #d4ebff;}#sk-container-id-5 input.sk-hidden--visually {border: 0;clip: rect(1px 1px 1px 1px);clip: rect(1px, 1px, 1px, 1px);height: 1px;margin: -1px;overflow: hidden;padding: 0;position: absolute;width: 1px;}#sk-container-id-5 div.sk-estimator {font-family: monospace;background-color: #f0f8ff;border: 1px dotted black;border-radius: 0.25em;box-sizing: border-box;margin-bottom: 0.5em;}#sk-container-id-5 div.sk-estimator:hover {background-color: #d4ebff;}#sk-container-id-5 div.sk-parallel-item::after {content: \"\";width: 100%;border-bottom: 1px solid gray;flex-grow: 1;}#sk-container-id-5 div.sk-label:hover label.sk-toggleable__label {background-color: #d4ebff;}#sk-container-id-5 div.sk-serial::before {content: \"\";position: absolute;border-left: 1px solid gray;box-sizing: border-box;top: 0;bottom: 0;left: 50%;z-index: 0;}#sk-container-id-5 div.sk-serial {display: flex;flex-direction: column;align-items: center;background-color: white;padding-right: 0.2em;padding-left: 0.2em;position: relative;}#sk-container-id-5 div.sk-item {position: relative;z-index: 1;}#sk-container-id-5 div.sk-parallel {display: flex;align-items: stretch;justify-content: center;background-color: white;position: relative;}#sk-container-id-5 div.sk-item::before, #sk-container-id-5 div.sk-parallel-item::before {content: \"\";position: absolute;border-left: 1px solid gray;box-sizing: border-box;top: 0;bottom: 0;left: 50%;z-index: -1;}#sk-container-id-5 div.sk-parallel-item {display: flex;flex-direction: column;z-index: 1;position: relative;background-color: white;}#sk-container-id-5 div.sk-parallel-item:first-child::after {align-self: flex-end;width: 50%;}#sk-container-id-5 div.sk-parallel-item:last-child::after {align-self: flex-start;width: 50%;}#sk-container-id-5 div.sk-parallel-item:only-child::after {width: 0;}#sk-container-id-5 div.sk-dashed-wrapped {border: 1px dashed gray;margin: 0 0.4em 0.5em 0.4em;box-sizing: border-box;padding-bottom: 0.4em;background-color: white;}#sk-container-id-5 div.sk-label label {font-family: monospace;font-weight: bold;display: inline-block;line-height: 1.2em;}#sk-container-id-5 div.sk-label-container {text-align: center;}#sk-container-id-5 div.sk-container {/* jupyter's `normalize.less` sets `[hidden] { display: none; }` but bootstrap.min.css set `[hidden] { display: none !important; }` so we also need the `!important` here to be able to override the default hidden behavior on the sphinx rendered scikit-learn.org. See: https://github.com/scikit-learn/scikit-learn/issues/21755 */display: inline-block !important;position: relative;}#sk-container-id-5 div.sk-text-repr-fallback {display: none;}</style><div id=\"sk-container-id-5\" class=\"sk-top-container\"><div class=\"sk-text-repr-fallback\"><pre>Pipeline(steps=[(&#x27;functiontransformer&#x27;,\n",
       "                 FunctionTransformer(feature_names_out=&#x27;one-to-one&#x27;,\n",
       "                                     func=&lt;ufunc &#x27;sqrt&#x27;&gt;)),\n",
       "                (&#x27;standardscaler&#x27;, StandardScaler())])</pre><b>In a Jupyter environment, please rerun this cell to show the HTML representation or trust the notebook. <br />On GitHub, the HTML representation is unable to render, please try loading this page with nbviewer.org.</b></div><div class=\"sk-container\" hidden><div class=\"sk-item sk-dashed-wrapped\"><div class=\"sk-label-container\"><div class=\"sk-label sk-toggleable\"><input class=\"sk-toggleable__control sk-hidden--visually\" id=\"sk-estimator-id-13\" type=\"checkbox\" ><label for=\"sk-estimator-id-13\" class=\"sk-toggleable__label sk-toggleable__label-arrow\">Pipeline</label><div class=\"sk-toggleable__content\"><pre>Pipeline(steps=[(&#x27;functiontransformer&#x27;,\n",
       "                 FunctionTransformer(feature_names_out=&#x27;one-to-one&#x27;,\n",
       "                                     func=&lt;ufunc &#x27;sqrt&#x27;&gt;)),\n",
       "                (&#x27;standardscaler&#x27;, StandardScaler())])</pre></div></div></div><div class=\"sk-serial\"><div class=\"sk-item\"><div class=\"sk-estimator sk-toggleable\"><input class=\"sk-toggleable__control sk-hidden--visually\" id=\"sk-estimator-id-14\" type=\"checkbox\" ><label for=\"sk-estimator-id-14\" class=\"sk-toggleable__label sk-toggleable__label-arrow\">FunctionTransformer</label><div class=\"sk-toggleable__content\"><pre>FunctionTransformer(feature_names_out=&#x27;one-to-one&#x27;, func=&lt;ufunc &#x27;sqrt&#x27;&gt;)</pre></div></div></div><div class=\"sk-item\"><div class=\"sk-estimator sk-toggleable\"><input class=\"sk-toggleable__control sk-hidden--visually\" id=\"sk-estimator-id-15\" type=\"checkbox\" ><label for=\"sk-estimator-id-15\" class=\"sk-toggleable__label sk-toggleable__label-arrow\">StandardScaler</label><div class=\"sk-toggleable__content\"><pre>StandardScaler()</pre></div></div></div></div></div></div></div>"
      ],
      "text/plain": [
       "Pipeline(steps=[('functiontransformer',\n",
       "                 FunctionTransformer(feature_names_out='one-to-one',\n",
       "                                     func=<ufunc 'sqrt'>)),\n",
       "                ('standardscaler', StandardScaler())])"
      ]
     },
     "execution_count": 53,
     "metadata": {},
     "output_type": "execute_result"
    }
   ],
   "source": [
    "from sklearn.pipeline import make_pipeline\n",
    "from sklearn.preprocessing import StandardScaler\n",
    "from sklearn.preprocessing import FunctionTransformer\n",
    "\n",
    "years_pipeline = make_pipeline(\n",
    "    FunctionTransformer(years_worked, feature_names_out=years_worked_name),\n",
    "    StandardScaler())\n",
    "\n",
    "\n",
    "sqrt_pipeline = make_pipeline(\n",
    "    FunctionTransformer(np.sqrt, feature_names_out= \"one-to-one\"),\n",
    "    StandardScaler())\n",
    "sqrt_pipeline"
   ]
  },
  {
   "cell_type": "markdown",
   "metadata": {},
   "source": [
    "# Categorical Variables\n",
    "2. Experience Level (Ordinal)\n",
    "3. Employment Type  (One Hot)\n",
    "4. Job Title (One Hot)\n",
    "11. Company Size (Ordinal)\n",
    "9. Remote Ratio (Ordinal)\n",
    "\n",
    "\n",
    "Categorize the Variables using Ordinal or One-Hot-Encoder \n",
    "We will use Scikit-learn's OrdinalEncoder and OneHotEncoder imports\n",
    "One Hot vars can be generalized\n",
    "Ordinal Variables need to be ordered by category"
   ]
  },
  {
   "cell_type": "markdown",
   "metadata": {},
   "source": [
    "# Categorical Variable Pipelines"
   ]
  },
  {
   "cell_type": "code",
   "execution_count": 11,
   "metadata": {},
   "outputs": [],
   "source": [
    "from sklearn.preprocessing import OrdinalEncoder\n",
    "from sklearn.preprocessing import OneHotEncoder\n",
    "\n",
    "# Test a few encoding techniques\n",
    "remote_ratio_cat = salary[[\"remote_ratio\"]]\n",
    "one_hot_encoder = OneHotEncoder()\n",
    "ordinal_encoder = OrdinalEncoder()\n",
    "remote_encode = ordinal_encoder.fit_transform(remote_ratio_cat) # This works"
   ]
  },
  {
   "cell_type": "markdown",
   "metadata": {},
   "source": [
    "# Preprocessing"
   ]
  },
  {
   "cell_type": "code",
   "execution_count": 54,
   "metadata": {},
   "outputs": [],
   "source": [
    "from sklearn.compose import ColumnTransformer\n",
    "from sklearn.preprocessing import OrdinalEncoder\n",
    "from sklearn.preprocessing import OneHotEncoder\n",
    "# i dont need to make a pipeline for one step. just include in column transformer\n",
    "# For number vars I do\n",
    "\n",
    "columns_used = [\"work_year\", \"salary_in_usd\", \"experience_level\", \"company_size\", \"remote_ratio\", \"employment_type\", \"job_title\"]\n",
    "\n",
    "preprocessing = ColumnTransformer([\n",
    "    (\"years_worked\", years_pipeline, [\"work_year\"]),\n",
    "    (\"sqrt_salary_usd\", sqrt_pipeline, [\"salary_in_usd\"]),\n",
    "    (\"experience\", OrdinalEncoder(categories=[['EX','EN','MI','SE']]), [\"experience_level\"]),\n",
    "    (\"company_size\",OrdinalEncoder(categories=[['S','M','L']]), [\"company_size\"]),\n",
    "    (\"remote_ratio\", OrdinalEncoder(), [\"remote_ratio\"]),\n",
    "    (\"one_hot\", OneHotEncoder(sparse=False), [\"employment_type\", \"job_title\"])\n",
    "],\n",
    "                                #   remainder = 'passthrough'\n",
    "                                ) # Drop the columns I don't want. Make sure to do this during the TEST PHASE"
   ]
  },
  {
   "cell_type": "code",
   "execution_count": 56,
   "metadata": {},
   "outputs": [
    {
     "data": {
      "text/plain": [
       "array(['years_worked__work_year', 'sqrt_salary_usd__salary_in_usd',\n",
       "       'experience__experience_level', 'company_size__company_size',\n",
       "       'remote_ratio__remote_ratio', 'one_hot__employment_type_CT',\n",
       "       'one_hot__employment_type_FL', 'one_hot__employment_type_FT',\n",
       "       'one_hot__employment_type_PT',\n",
       "       'one_hot__job_title_3D Computer Vision Researcher',\n",
       "       'one_hot__job_title_AI Scientist',\n",
       "       'one_hot__job_title_Analytics Engineer',\n",
       "       'one_hot__job_title_Applied Data Scientist',\n",
       "       'one_hot__job_title_Applied Machine Learning Scientist',\n",
       "       'one_hot__job_title_BI Data Analyst',\n",
       "       'one_hot__job_title_Big Data Architect',\n",
       "       'one_hot__job_title_Big Data Engineer',\n",
       "       'one_hot__job_title_Business Data Analyst',\n",
       "       'one_hot__job_title_Cloud Data Engineer',\n",
       "       'one_hot__job_title_Computer Vision Engineer',\n",
       "       'one_hot__job_title_Computer Vision Software Engineer',\n",
       "       'one_hot__job_title_Data Analyst',\n",
       "       'one_hot__job_title_Data Analytics Engineer',\n",
       "       'one_hot__job_title_Data Analytics Lead',\n",
       "       'one_hot__job_title_Data Analytics Manager',\n",
       "       'one_hot__job_title_Data Architect',\n",
       "       'one_hot__job_title_Data Engineer',\n",
       "       'one_hot__job_title_Data Engineering Manager',\n",
       "       'one_hot__job_title_Data Science Consultant',\n",
       "       'one_hot__job_title_Data Science Engineer',\n",
       "       'one_hot__job_title_Data Science Manager',\n",
       "       'one_hot__job_title_Data Scientist',\n",
       "       'one_hot__job_title_Data Specialist',\n",
       "       'one_hot__job_title_Director of Data Engineering',\n",
       "       'one_hot__job_title_Director of Data Science',\n",
       "       'one_hot__job_title_ETL Developer',\n",
       "       'one_hot__job_title_Finance Data Analyst',\n",
       "       'one_hot__job_title_Financial Data Analyst',\n",
       "       'one_hot__job_title_Head of Data',\n",
       "       'one_hot__job_title_Head of Data Science',\n",
       "       'one_hot__job_title_Head of Machine Learning',\n",
       "       'one_hot__job_title_Lead Data Analyst',\n",
       "       'one_hot__job_title_Lead Data Engineer',\n",
       "       'one_hot__job_title_Lead Data Scientist',\n",
       "       'one_hot__job_title_Lead Machine Learning Engineer',\n",
       "       'one_hot__job_title_ML Engineer',\n",
       "       'one_hot__job_title_Machine Learning Developer',\n",
       "       'one_hot__job_title_Machine Learning Engineer',\n",
       "       'one_hot__job_title_Machine Learning Infrastructure Engineer',\n",
       "       'one_hot__job_title_Machine Learning Manager',\n",
       "       'one_hot__job_title_Machine Learning Scientist',\n",
       "       'one_hot__job_title_Marketing Data Analyst',\n",
       "       'one_hot__job_title_NLP Engineer',\n",
       "       'one_hot__job_title_Principal Data Analyst',\n",
       "       'one_hot__job_title_Principal Data Engineer',\n",
       "       'one_hot__job_title_Principal Data Scientist',\n",
       "       'one_hot__job_title_Product Data Analyst',\n",
       "       'one_hot__job_title_Research Scientist',\n",
       "       'one_hot__job_title_Staff Data Scientist'], dtype=object)"
      ]
     },
     "execution_count": 56,
     "metadata": {},
     "output_type": "execute_result"
    }
   ],
   "source": [
    "#Test if this works on the whole dataset\n",
    "\n",
    "salary_prep = preprocessing.fit_transform(salary)\n",
    "salary_prep.shape\n",
    "preprocessing.get_feature_names_out() # when using a function to get feature names (see years_pipeline) even if you change it you need to still use the original column name\n",
    "\n",
    "# salary[columns_used]\n",
    "\n",
    "# Confirmed to work\n"
   ]
  },
  {
   "cell_type": "markdown",
   "metadata": {},
   "source": [
    "# Model Training"
   ]
  },
  {
   "cell_type": "markdown",
   "metadata": {},
   "source": [
    "## Linear Regression"
   ]
  },
  {
   "cell_type": "code",
   "execution_count": null,
   "metadata": {},
   "outputs": [],
   "source": [
    "from sklearn.linear_model import LinearRegression\n",
    "train_set_labels = train_set[\"salary_in_usd\"].copy()\n",
    "\n",
    "lin_reg = make_pipeline(preprocessing, LinearRegression())\n",
    "lin_reg.fit(train_set, train_set_labels)"
   ]
  },
  {
   "cell_type": "markdown",
   "metadata": {},
   "source": [
    "Prediction:"
   ]
  },
  {
   "cell_type": "code",
   "execution_count": 63,
   "metadata": {},
   "outputs": [
    {
     "data": {
      "text/plain": [
       "array([133400.,  98800., 148000., 154800.,  52900.])"
      ]
     },
     "execution_count": 63,
     "metadata": {},
     "output_type": "execute_result"
    }
   ],
   "source": [
    "salary_predict = lin_reg.predict(train_set)\n",
    "salary_predict[:5].round(-2)"
   ]
  },
  {
   "cell_type": "markdown",
   "metadata": {},
   "source": [
    "Training Values:"
   ]
  },
  {
   "cell_type": "code",
   "execution_count": 64,
   "metadata": {},
   "outputs": [
    {
     "data": {
      "text/plain": [
       "array([125000,  88654, 144854, 152500,  38400], dtype=int64)"
      ]
     },
     "execution_count": 64,
     "metadata": {},
     "output_type": "execute_result"
    }
   ],
   "source": [
    "train_set_labels.iloc[:5].values"
   ]
  },
  {
   "cell_type": "code",
   "execution_count": 69,
   "metadata": {},
   "outputs": [
    {
     "data": {
      "text/plain": [
       "15214.295625340586"
      ]
     },
     "execution_count": 69,
     "metadata": {},
     "output_type": "execute_result"
    }
   ],
   "source": [
    "from sklearn.metrics import mean_squared_error\n",
    "lin_rmse = mean_squared_error(train_set_labels, salary_predict, squared= False)\n",
    "lin_rmse\n",
    "# 15214.296 \n"
   ]
  },
  {
   "cell_type": "code",
   "execution_count": 80,
   "metadata": {},
   "outputs": [
    {
     "name": "stdout",
     "output_type": "stream",
     "text": [
      "The Maximum Salary is 600000 and the Minimum Salary is 2859 with RMSE = 15214.295625340586\n"
     ]
    }
   ],
   "source": [
    "max_salary = salary[\"salary_in_usd\"].max()\n",
    "min_salary = salary[\"salary_in_usd\"].min()\n",
    "print(\"The Maximum Salary is\", max_salary, \"and the Minimum Salary is\", min_salary, \"with RMSE =\", lin_rmse) # Not great"
   ]
  },
  {
   "cell_type": "markdown",
   "metadata": {},
   "source": [
    "## Decision Tree Regressor"
   ]
  },
  {
   "cell_type": "code",
   "execution_count": 81,
   "metadata": {},
   "outputs": [
    {
     "data": {
      "text/html": [
       "<style>#sk-container-id-8 {color: black;background-color: white;}#sk-container-id-8 pre{padding: 0;}#sk-container-id-8 div.sk-toggleable {background-color: white;}#sk-container-id-8 label.sk-toggleable__label {cursor: pointer;display: block;width: 100%;margin-bottom: 0;padding: 0.3em;box-sizing: border-box;text-align: center;}#sk-container-id-8 label.sk-toggleable__label-arrow:before {content: \"▸\";float: left;margin-right: 0.25em;color: #696969;}#sk-container-id-8 label.sk-toggleable__label-arrow:hover:before {color: black;}#sk-container-id-8 div.sk-estimator:hover label.sk-toggleable__label-arrow:before {color: black;}#sk-container-id-8 div.sk-toggleable__content {max-height: 0;max-width: 0;overflow: hidden;text-align: left;background-color: #f0f8ff;}#sk-container-id-8 div.sk-toggleable__content pre {margin: 0.2em;color: black;border-radius: 0.25em;background-color: #f0f8ff;}#sk-container-id-8 input.sk-toggleable__control:checked~div.sk-toggleable__content {max-height: 200px;max-width: 100%;overflow: auto;}#sk-container-id-8 input.sk-toggleable__control:checked~label.sk-toggleable__label-arrow:before {content: \"▾\";}#sk-container-id-8 div.sk-estimator input.sk-toggleable__control:checked~label.sk-toggleable__label {background-color: #d4ebff;}#sk-container-id-8 div.sk-label input.sk-toggleable__control:checked~label.sk-toggleable__label {background-color: #d4ebff;}#sk-container-id-8 input.sk-hidden--visually {border: 0;clip: rect(1px 1px 1px 1px);clip: rect(1px, 1px, 1px, 1px);height: 1px;margin: -1px;overflow: hidden;padding: 0;position: absolute;width: 1px;}#sk-container-id-8 div.sk-estimator {font-family: monospace;background-color: #f0f8ff;border: 1px dotted black;border-radius: 0.25em;box-sizing: border-box;margin-bottom: 0.5em;}#sk-container-id-8 div.sk-estimator:hover {background-color: #d4ebff;}#sk-container-id-8 div.sk-parallel-item::after {content: \"\";width: 100%;border-bottom: 1px solid gray;flex-grow: 1;}#sk-container-id-8 div.sk-label:hover label.sk-toggleable__label {background-color: #d4ebff;}#sk-container-id-8 div.sk-serial::before {content: \"\";position: absolute;border-left: 1px solid gray;box-sizing: border-box;top: 0;bottom: 0;left: 50%;z-index: 0;}#sk-container-id-8 div.sk-serial {display: flex;flex-direction: column;align-items: center;background-color: white;padding-right: 0.2em;padding-left: 0.2em;position: relative;}#sk-container-id-8 div.sk-item {position: relative;z-index: 1;}#sk-container-id-8 div.sk-parallel {display: flex;align-items: stretch;justify-content: center;background-color: white;position: relative;}#sk-container-id-8 div.sk-item::before, #sk-container-id-8 div.sk-parallel-item::before {content: \"\";position: absolute;border-left: 1px solid gray;box-sizing: border-box;top: 0;bottom: 0;left: 50%;z-index: -1;}#sk-container-id-8 div.sk-parallel-item {display: flex;flex-direction: column;z-index: 1;position: relative;background-color: white;}#sk-container-id-8 div.sk-parallel-item:first-child::after {align-self: flex-end;width: 50%;}#sk-container-id-8 div.sk-parallel-item:last-child::after {align-self: flex-start;width: 50%;}#sk-container-id-8 div.sk-parallel-item:only-child::after {width: 0;}#sk-container-id-8 div.sk-dashed-wrapped {border: 1px dashed gray;margin: 0 0.4em 0.5em 0.4em;box-sizing: border-box;padding-bottom: 0.4em;background-color: white;}#sk-container-id-8 div.sk-label label {font-family: monospace;font-weight: bold;display: inline-block;line-height: 1.2em;}#sk-container-id-8 div.sk-label-container {text-align: center;}#sk-container-id-8 div.sk-container {/* jupyter's `normalize.less` sets `[hidden] { display: none; }` but bootstrap.min.css set `[hidden] { display: none !important; }` so we also need the `!important` here to be able to override the default hidden behavior on the sphinx rendered scikit-learn.org. See: https://github.com/scikit-learn/scikit-learn/issues/21755 */display: inline-block !important;position: relative;}#sk-container-id-8 div.sk-text-repr-fallback {display: none;}</style><div id=\"sk-container-id-8\" class=\"sk-top-container\"><div class=\"sk-text-repr-fallback\"><pre>Pipeline(steps=[(&#x27;columntransformer&#x27;,\n",
       "                 ColumnTransformer(transformers=[(&#x27;years_worked&#x27;,\n",
       "                                                  Pipeline(steps=[(&#x27;functiontransformer&#x27;,\n",
       "                                                                   FunctionTransformer(feature_names_out=&lt;function years_worked_name at 0x00000236315A5090&gt;,\n",
       "                                                                                       func=&lt;function years_worked at 0x0000023630A7ED40&gt;)),\n",
       "                                                                  (&#x27;standardscaler&#x27;,\n",
       "                                                                   StandardScaler())]),\n",
       "                                                  [&#x27;work_year&#x27;]),\n",
       "                                                 (&#x27;sqrt_salary_usd&#x27;,\n",
       "                                                  Pipeline(steps=[(&#x27;...\n",
       "                                                  [&#x27;salary_in_usd&#x27;]),\n",
       "                                                 (&#x27;experience&#x27;,\n",
       "                                                  OrdinalEncoder(categories=[[&#x27;EX&#x27;,\n",
       "                                                                              &#x27;EN&#x27;,\n",
       "                                                                              &#x27;MI&#x27;,\n",
       "                                                                              &#x27;SE&#x27;]]),\n",
       "                                                  [&#x27;experience_level&#x27;]),\n",
       "                                                 (&#x27;company_size&#x27;,\n",
       "                                                  OrdinalEncoder(categories=[[&#x27;S&#x27;,\n",
       "                                                                              &#x27;M&#x27;,\n",
       "                                                                              &#x27;L&#x27;]]),\n",
       "                                                  [&#x27;company_size&#x27;]),\n",
       "                                                 (&#x27;remote_ratio&#x27;,\n",
       "                                                  OrdinalEncoder(),\n",
       "                                                  [&#x27;remote_ratio&#x27;]),\n",
       "                                                 (&#x27;one_hot&#x27;,\n",
       "                                                  OneHotEncoder(sparse=False),\n",
       "                                                  [&#x27;employment_type&#x27;,\n",
       "                                                   &#x27;job_title&#x27;])])),\n",
       "                (&#x27;decisiontreeregressor&#x27;, DecisionTreeRegressor())])</pre><b>In a Jupyter environment, please rerun this cell to show the HTML representation or trust the notebook. <br />On GitHub, the HTML representation is unable to render, please try loading this page with nbviewer.org.</b></div><div class=\"sk-container\" hidden><div class=\"sk-item sk-dashed-wrapped\"><div class=\"sk-label-container\"><div class=\"sk-label sk-toggleable\"><input class=\"sk-toggleable__control sk-hidden--visually\" id=\"sk-estimator-id-50\" type=\"checkbox\" ><label for=\"sk-estimator-id-50\" class=\"sk-toggleable__label sk-toggleable__label-arrow\">Pipeline</label><div class=\"sk-toggleable__content\"><pre>Pipeline(steps=[(&#x27;columntransformer&#x27;,\n",
       "                 ColumnTransformer(transformers=[(&#x27;years_worked&#x27;,\n",
       "                                                  Pipeline(steps=[(&#x27;functiontransformer&#x27;,\n",
       "                                                                   FunctionTransformer(feature_names_out=&lt;function years_worked_name at 0x00000236315A5090&gt;,\n",
       "                                                                                       func=&lt;function years_worked at 0x0000023630A7ED40&gt;)),\n",
       "                                                                  (&#x27;standardscaler&#x27;,\n",
       "                                                                   StandardScaler())]),\n",
       "                                                  [&#x27;work_year&#x27;]),\n",
       "                                                 (&#x27;sqrt_salary_usd&#x27;,\n",
       "                                                  Pipeline(steps=[(&#x27;...\n",
       "                                                  [&#x27;salary_in_usd&#x27;]),\n",
       "                                                 (&#x27;experience&#x27;,\n",
       "                                                  OrdinalEncoder(categories=[[&#x27;EX&#x27;,\n",
       "                                                                              &#x27;EN&#x27;,\n",
       "                                                                              &#x27;MI&#x27;,\n",
       "                                                                              &#x27;SE&#x27;]]),\n",
       "                                                  [&#x27;experience_level&#x27;]),\n",
       "                                                 (&#x27;company_size&#x27;,\n",
       "                                                  OrdinalEncoder(categories=[[&#x27;S&#x27;,\n",
       "                                                                              &#x27;M&#x27;,\n",
       "                                                                              &#x27;L&#x27;]]),\n",
       "                                                  [&#x27;company_size&#x27;]),\n",
       "                                                 (&#x27;remote_ratio&#x27;,\n",
       "                                                  OrdinalEncoder(),\n",
       "                                                  [&#x27;remote_ratio&#x27;]),\n",
       "                                                 (&#x27;one_hot&#x27;,\n",
       "                                                  OneHotEncoder(sparse=False),\n",
       "                                                  [&#x27;employment_type&#x27;,\n",
       "                                                   &#x27;job_title&#x27;])])),\n",
       "                (&#x27;decisiontreeregressor&#x27;, DecisionTreeRegressor())])</pre></div></div></div><div class=\"sk-serial\"><div class=\"sk-item sk-dashed-wrapped\"><div class=\"sk-label-container\"><div class=\"sk-label sk-toggleable\"><input class=\"sk-toggleable__control sk-hidden--visually\" id=\"sk-estimator-id-51\" type=\"checkbox\" ><label for=\"sk-estimator-id-51\" class=\"sk-toggleable__label sk-toggleable__label-arrow\">columntransformer: ColumnTransformer</label><div class=\"sk-toggleable__content\"><pre>ColumnTransformer(transformers=[(&#x27;years_worked&#x27;,\n",
       "                                 Pipeline(steps=[(&#x27;functiontransformer&#x27;,\n",
       "                                                  FunctionTransformer(feature_names_out=&lt;function years_worked_name at 0x00000236315A5090&gt;,\n",
       "                                                                      func=&lt;function years_worked at 0x0000023630A7ED40&gt;)),\n",
       "                                                 (&#x27;standardscaler&#x27;,\n",
       "                                                  StandardScaler())]),\n",
       "                                 [&#x27;work_year&#x27;]),\n",
       "                                (&#x27;sqrt_salary_usd&#x27;,\n",
       "                                 Pipeline(steps=[(&#x27;functiontransformer&#x27;,\n",
       "                                                  FunctionTransfor...\n",
       "                                                                      func=&lt;ufunc &#x27;sqrt&#x27;&gt;)),\n",
       "                                                 (&#x27;standardscaler&#x27;,\n",
       "                                                  StandardScaler())]),\n",
       "                                 [&#x27;salary_in_usd&#x27;]),\n",
       "                                (&#x27;experience&#x27;,\n",
       "                                 OrdinalEncoder(categories=[[&#x27;EX&#x27;, &#x27;EN&#x27;, &#x27;MI&#x27;,\n",
       "                                                             &#x27;SE&#x27;]]),\n",
       "                                 [&#x27;experience_level&#x27;]),\n",
       "                                (&#x27;company_size&#x27;,\n",
       "                                 OrdinalEncoder(categories=[[&#x27;S&#x27;, &#x27;M&#x27;, &#x27;L&#x27;]]),\n",
       "                                 [&#x27;company_size&#x27;]),\n",
       "                                (&#x27;remote_ratio&#x27;, OrdinalEncoder(),\n",
       "                                 [&#x27;remote_ratio&#x27;]),\n",
       "                                (&#x27;one_hot&#x27;, OneHotEncoder(sparse=False),\n",
       "                                 [&#x27;employment_type&#x27;, &#x27;job_title&#x27;])])</pre></div></div></div><div class=\"sk-parallel\"><div class=\"sk-parallel-item\"><div class=\"sk-item\"><div class=\"sk-label-container\"><div class=\"sk-label sk-toggleable\"><input class=\"sk-toggleable__control sk-hidden--visually\" id=\"sk-estimator-id-52\" type=\"checkbox\" ><label for=\"sk-estimator-id-52\" class=\"sk-toggleable__label sk-toggleable__label-arrow\">years_worked</label><div class=\"sk-toggleable__content\"><pre>[&#x27;work_year&#x27;]</pre></div></div></div><div class=\"sk-serial\"><div class=\"sk-item\"><div class=\"sk-serial\"><div class=\"sk-item\"><div class=\"sk-estimator sk-toggleable\"><input class=\"sk-toggleable__control sk-hidden--visually\" id=\"sk-estimator-id-53\" type=\"checkbox\" ><label for=\"sk-estimator-id-53\" class=\"sk-toggleable__label sk-toggleable__label-arrow\">FunctionTransformer</label><div class=\"sk-toggleable__content\"><pre>FunctionTransformer(feature_names_out=&lt;function years_worked_name at 0x00000236315A5090&gt;,\n",
       "                    func=&lt;function years_worked at 0x0000023630A7ED40&gt;)</pre></div></div></div><div class=\"sk-item\"><div class=\"sk-estimator sk-toggleable\"><input class=\"sk-toggleable__control sk-hidden--visually\" id=\"sk-estimator-id-54\" type=\"checkbox\" ><label for=\"sk-estimator-id-54\" class=\"sk-toggleable__label sk-toggleable__label-arrow\">StandardScaler</label><div class=\"sk-toggleable__content\"><pre>StandardScaler()</pre></div></div></div></div></div></div></div></div><div class=\"sk-parallel-item\"><div class=\"sk-item\"><div class=\"sk-label-container\"><div class=\"sk-label sk-toggleable\"><input class=\"sk-toggleable__control sk-hidden--visually\" id=\"sk-estimator-id-55\" type=\"checkbox\" ><label for=\"sk-estimator-id-55\" class=\"sk-toggleable__label sk-toggleable__label-arrow\">sqrt_salary_usd</label><div class=\"sk-toggleable__content\"><pre>[&#x27;salary_in_usd&#x27;]</pre></div></div></div><div class=\"sk-serial\"><div class=\"sk-item\"><div class=\"sk-serial\"><div class=\"sk-item\"><div class=\"sk-estimator sk-toggleable\"><input class=\"sk-toggleable__control sk-hidden--visually\" id=\"sk-estimator-id-56\" type=\"checkbox\" ><label for=\"sk-estimator-id-56\" class=\"sk-toggleable__label sk-toggleable__label-arrow\">FunctionTransformer</label><div class=\"sk-toggleable__content\"><pre>FunctionTransformer(feature_names_out=&#x27;one-to-one&#x27;, func=&lt;ufunc &#x27;sqrt&#x27;&gt;)</pre></div></div></div><div class=\"sk-item\"><div class=\"sk-estimator sk-toggleable\"><input class=\"sk-toggleable__control sk-hidden--visually\" id=\"sk-estimator-id-57\" type=\"checkbox\" ><label for=\"sk-estimator-id-57\" class=\"sk-toggleable__label sk-toggleable__label-arrow\">StandardScaler</label><div class=\"sk-toggleable__content\"><pre>StandardScaler()</pre></div></div></div></div></div></div></div></div><div class=\"sk-parallel-item\"><div class=\"sk-item\"><div class=\"sk-label-container\"><div class=\"sk-label sk-toggleable\"><input class=\"sk-toggleable__control sk-hidden--visually\" id=\"sk-estimator-id-58\" type=\"checkbox\" ><label for=\"sk-estimator-id-58\" class=\"sk-toggleable__label sk-toggleable__label-arrow\">experience</label><div class=\"sk-toggleable__content\"><pre>[&#x27;experience_level&#x27;]</pre></div></div></div><div class=\"sk-serial\"><div class=\"sk-item\"><div class=\"sk-estimator sk-toggleable\"><input class=\"sk-toggleable__control sk-hidden--visually\" id=\"sk-estimator-id-59\" type=\"checkbox\" ><label for=\"sk-estimator-id-59\" class=\"sk-toggleable__label sk-toggleable__label-arrow\">OrdinalEncoder</label><div class=\"sk-toggleable__content\"><pre>OrdinalEncoder(categories=[[&#x27;EX&#x27;, &#x27;EN&#x27;, &#x27;MI&#x27;, &#x27;SE&#x27;]])</pre></div></div></div></div></div></div><div class=\"sk-parallel-item\"><div class=\"sk-item\"><div class=\"sk-label-container\"><div class=\"sk-label sk-toggleable\"><input class=\"sk-toggleable__control sk-hidden--visually\" id=\"sk-estimator-id-60\" type=\"checkbox\" ><label for=\"sk-estimator-id-60\" class=\"sk-toggleable__label sk-toggleable__label-arrow\">company_size</label><div class=\"sk-toggleable__content\"><pre>[&#x27;company_size&#x27;]</pre></div></div></div><div class=\"sk-serial\"><div class=\"sk-item\"><div class=\"sk-estimator sk-toggleable\"><input class=\"sk-toggleable__control sk-hidden--visually\" id=\"sk-estimator-id-61\" type=\"checkbox\" ><label for=\"sk-estimator-id-61\" class=\"sk-toggleable__label sk-toggleable__label-arrow\">OrdinalEncoder</label><div class=\"sk-toggleable__content\"><pre>OrdinalEncoder(categories=[[&#x27;S&#x27;, &#x27;M&#x27;, &#x27;L&#x27;]])</pre></div></div></div></div></div></div><div class=\"sk-parallel-item\"><div class=\"sk-item\"><div class=\"sk-label-container\"><div class=\"sk-label sk-toggleable\"><input class=\"sk-toggleable__control sk-hidden--visually\" id=\"sk-estimator-id-62\" type=\"checkbox\" ><label for=\"sk-estimator-id-62\" class=\"sk-toggleable__label sk-toggleable__label-arrow\">remote_ratio</label><div class=\"sk-toggleable__content\"><pre>[&#x27;remote_ratio&#x27;]</pre></div></div></div><div class=\"sk-serial\"><div class=\"sk-item\"><div class=\"sk-estimator sk-toggleable\"><input class=\"sk-toggleable__control sk-hidden--visually\" id=\"sk-estimator-id-63\" type=\"checkbox\" ><label for=\"sk-estimator-id-63\" class=\"sk-toggleable__label sk-toggleable__label-arrow\">OrdinalEncoder</label><div class=\"sk-toggleable__content\"><pre>OrdinalEncoder()</pre></div></div></div></div></div></div><div class=\"sk-parallel-item\"><div class=\"sk-item\"><div class=\"sk-label-container\"><div class=\"sk-label sk-toggleable\"><input class=\"sk-toggleable__control sk-hidden--visually\" id=\"sk-estimator-id-64\" type=\"checkbox\" ><label for=\"sk-estimator-id-64\" class=\"sk-toggleable__label sk-toggleable__label-arrow\">one_hot</label><div class=\"sk-toggleable__content\"><pre>[&#x27;employment_type&#x27;, &#x27;job_title&#x27;]</pre></div></div></div><div class=\"sk-serial\"><div class=\"sk-item\"><div class=\"sk-estimator sk-toggleable\"><input class=\"sk-toggleable__control sk-hidden--visually\" id=\"sk-estimator-id-65\" type=\"checkbox\" ><label for=\"sk-estimator-id-65\" class=\"sk-toggleable__label sk-toggleable__label-arrow\">OneHotEncoder</label><div class=\"sk-toggleable__content\"><pre>OneHotEncoder(sparse=False)</pre></div></div></div></div></div></div></div></div><div class=\"sk-item\"><div class=\"sk-estimator sk-toggleable\"><input class=\"sk-toggleable__control sk-hidden--visually\" id=\"sk-estimator-id-66\" type=\"checkbox\" ><label for=\"sk-estimator-id-66\" class=\"sk-toggleable__label sk-toggleable__label-arrow\">DecisionTreeRegressor</label><div class=\"sk-toggleable__content\"><pre>DecisionTreeRegressor()</pre></div></div></div></div></div></div></div>"
      ],
      "text/plain": [
       "Pipeline(steps=[('columntransformer',\n",
       "                 ColumnTransformer(transformers=[('years_worked',\n",
       "                                                  Pipeline(steps=[('functiontransformer',\n",
       "                                                                   FunctionTransformer(feature_names_out=<function years_worked_name at 0x00000236315A5090>,\n",
       "                                                                                       func=<function years_worked at 0x0000023630A7ED40>)),\n",
       "                                                                  ('standardscaler',\n",
       "                                                                   StandardScaler())]),\n",
       "                                                  ['work_year']),\n",
       "                                                 ('sqrt_salary_usd',\n",
       "                                                  Pipeline(steps=[('...\n",
       "                                                  ['salary_in_usd']),\n",
       "                                                 ('experience',\n",
       "                                                  OrdinalEncoder(categories=[['EX',\n",
       "                                                                              'EN',\n",
       "                                                                              'MI',\n",
       "                                                                              'SE']]),\n",
       "                                                  ['experience_level']),\n",
       "                                                 ('company_size',\n",
       "                                                  OrdinalEncoder(categories=[['S',\n",
       "                                                                              'M',\n",
       "                                                                              'L']]),\n",
       "                                                  ['company_size']),\n",
       "                                                 ('remote_ratio',\n",
       "                                                  OrdinalEncoder(),\n",
       "                                                  ['remote_ratio']),\n",
       "                                                 ('one_hot',\n",
       "                                                  OneHotEncoder(sparse=False),\n",
       "                                                  ['employment_type',\n",
       "                                                   'job_title'])])),\n",
       "                ('decisiontreeregressor', DecisionTreeRegressor())])"
      ]
     },
     "execution_count": 81,
     "metadata": {},
     "output_type": "execute_result"
    }
   ],
   "source": [
    "from sklearn.tree import DecisionTreeRegressor\n",
    "\n",
    "salary_tree_regressor = make_pipeline(preprocessing, DecisionTreeRegressor())\n",
    "salary_tree_regressor.fit(train_set, train_set_labels)"
   ]
  },
  {
   "cell_type": "code",
   "execution_count": 82,
   "metadata": {},
   "outputs": [
    {
     "data": {
      "text/plain": [
       "0.0"
      ]
     },
     "execution_count": 82,
     "metadata": {},
     "output_type": "execute_result"
    }
   ],
   "source": [
    "salary_tree_regressor_prediction = salary_tree_regressor.predict(train_set)\n",
    "tree_rmse = mean_squared_error(train_set_labels, salary_tree_regressor_prediction, squared= False)\n",
    "tree_rmse # Overfitting"
   ]
  }
 ],
 "metadata": {
  "kernelspec": {
   "display_name": "Python 3",
   "language": "python",
   "name": "python3"
  },
  "language_info": {
   "codemirror_mode": {
    "name": "ipython",
    "version": 3
   },
   "file_extension": ".py",
   "mimetype": "text/x-python",
   "name": "python",
   "nbconvert_exporter": "python",
   "pygments_lexer": "ipython3",
   "version": "3.10.12"
  },
  "orig_nbformat": 4
 },
 "nbformat": 4,
 "nbformat_minor": 2
}
